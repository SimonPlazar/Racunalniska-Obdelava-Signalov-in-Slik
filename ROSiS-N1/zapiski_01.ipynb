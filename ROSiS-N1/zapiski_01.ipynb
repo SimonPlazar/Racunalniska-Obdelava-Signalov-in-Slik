{
 "cells": [
  {
   "cell_type": "code",
   "metadata": {
    "ExecuteTime": {
     "end_time": "2025-03-09T16:19:51.928038Z",
     "start_time": "2025-03-09T16:19:48.620599Z"
    }
   },
   "source": [
    "import numpy as np\n",
    "import matplotlib.pyplot as plt\n",
    "import sounddevice as sd"
   ],
   "outputs": [],
   "execution_count": 3
  },
  {
   "cell_type": "markdown",
   "metadata": {},
   "source": [
    "#### Primer 1"
   ]
  },
  {
   "cell_type": "code",
   "execution_count": null,
   "metadata": {},
   "outputs": [],
   "source": [
    "# Primer preproste sinusoide s frekvenco 1 Hz\n",
    "Fs = 1000                       # vzorčevalna frekvenca [Hz] - število \"točk\" na sekundo\n",
    "T = 1.0                         # dolžina vzorcev - signala [s]\n",
    "t = np.arange(0, T, (1.0 / Fs)) # točke vzorčenja - časovni vektor\n",
    "freq = 1                        # frekvenca [Hz]\n",
    "A = 1.0                         # amplituda\n",
    "p = 0.0                         # faza [rad]\n",
    "\n",
    "# Ustvarimo sinusuido\n",
    "y = A*np.sin(2*np.pi*freq*t+p)\n",
    "\n",
    "# Izris\n",
    "plt.plot(t, y)\n",
    "plt.title(f'Vzor: {Fs} Hz, Frek: {freq} Hz, Ampl: {A}, Faza: {p} rad')\n",
    "plt.xlabel('Čas [s]')\n",
    "plt.ylabel('Amplituda')\n",
    "plt.grid(True)\n",
    "plt.show()"
   ]
  },
  {
   "cell_type": "markdown",
   "metadata": {},
   "source": [
    "#### Primer 2"
   ]
  },
  {
   "cell_type": "code",
   "execution_count": null,
   "metadata": {},
   "outputs": [],
   "source": [
    "# Drugi primer preproste sinusoide s frekvenco 5 Hz\n",
    "Fs = 1000                       # vzorčevalna frekvenca [Hz] - število \"točk\" na sekundo\n",
    "T = 1.0                         # dolžina vzorcev - signala [s]\n",
    "t = np.arange(0, T, (1.0 / Fs)) # točke vzorčenja - časovni vektor\n",
    "freq = 5                        # frekvenca [Hz]\n",
    "A = 1.0                         # amplituda\n",
    "p = 0.0                         # faza [rad]\n",
    "\n",
    "# Ustvarimo sinusuido\n",
    "y = A*np.sin(2*np.pi*freq*t+p)\n",
    "\n",
    "# Izris\n",
    "plt.plot(t, y)\n",
    "plt.title(f'Vzor: {Fs} Hz, Frek: {freq} Hz, Ampl: {A}, Faza: {p} rad')\n",
    "plt.xlabel('Čas [s]')\n",
    "plt.ylabel('Amplituda')\n",
    "plt.grid(True)\n",
    "plt.show()"
   ]
  },
  {
   "cell_type": "markdown",
   "metadata": {},
   "source": [
    "#### Primer 3"
   ]
  },
  {
   "cell_type": "code",
   "execution_count": null,
   "metadata": {},
   "outputs": [],
   "source": [
    "# Tretji primer preproste sinusoide s frekvenco 5 Hz pri manjši frekvenci vzorčenja\n",
    "# Razmislite kaj se dogaja s signalom ko zmanjšamo vzorčevalno frekvenco, pri istem številu vzorcev\n",
    "Fs = 50                         # vzorčevalna frekvenca [Hz] - število \"točk\" na sekundo\n",
    "T = 1.0                         # dolžina vzorcev - signala [s]\n",
    "t = np.arange(0, T, (1.0 / Fs)) # točke vzorčenja - časovni vektor\n",
    "freq = 5                        # frekvenca [Hz]\n",
    "A = 1.0                         # amplituda\n",
    "p = 0.0                         # faza [rad]\n",
    "\n",
    "# Ustvarimo sinusuido\n",
    "y = A*np.sin(2*np.pi*freq*t+p)\n",
    "\n",
    "# Izris\n",
    "plt.plot(t, y)\n",
    "plt.title(f'Vzor: {Fs} Hz, Frek: {freq} Hz, Ampl: {A}, Faza: {p} rad')\n",
    "plt.xlabel('Čas [s]')\n",
    "plt.ylabel('Amplituda')\n",
    "plt.grid(True)\n",
    "plt.show()"
   ]
  },
  {
   "cell_type": "markdown",
   "metadata": {},
   "source": [
    "#### Primer 4"
   ]
  },
  {
   "cell_type": "code",
   "execution_count": null,
   "metadata": {},
   "outputs": [],
   "source": [
    "# Četrti primer preproste sinusoide s frekvenco 26 Hz pri manjši frekvenci vzorčenja\n",
    "# Kaj pa tukaj? Zakaj dobimo \"čuden\" sinus?\n",
    "Fs = 100                        # vzorčevalna frekvenca [Hz] - število \"točk\" na sekundo\n",
    "T = 1.0                         # dolžina vzorcev - signala [s]\n",
    "t = np.arange(0, T, (1.0 / Fs)) # točke vzorčenja - časovni vektor\n",
    "freq = 26                       # frekvenca [Hz]\n",
    "A = 1.0                         # amplituda\n",
    "p = 0.0                         # faza [rad]\n",
    "\n",
    "# Ustvarimo sinusuido\n",
    "y = A*np.sin(2*np.pi*freq*t+p)\n",
    "\n",
    "# Izris\n",
    "plt.plot(t, y)\n",
    "plt.title(f'Vzor: {Fs} Hz, Frek: {freq} Hz, Ampl: {A}, Faza: {p} rad')\n",
    "plt.xlabel('Čas [s]')\n",
    "plt.ylabel('Amplituda')\n",
    "plt.grid(True)\n",
    "plt.show()"
   ]
  },
  {
   "cell_type": "markdown",
   "metadata": {},
   "source": [
    "#### Primer 4"
   ]
  },
  {
   "cell_type": "code",
   "execution_count": null,
   "metadata": {},
   "outputs": [],
   "source": [
    "# Nyquist\n",
    "Fs = 300                        # vzorčevalna frekvenca [Hz] - število \"točk\" na sekundo\n",
    "T = 1.0                         # dolžina vzorcev - signala [s]\n",
    "t = np.arange(0, T, (1.0 / Fs)) # točke vzorčenja - časovni vektor\n",
    "freq1 = 100                     # frekvenca 1 [Hz]\n",
    "freq2 = 200                     # frekvenca 2 [Hz]\n",
    "A = 1.0                         # amplituda\n",
    "p = 0.0                         # faza [rad]\n",
    "\n",
    "# Ustvarimo sinusuide\n",
    "y1 = A*np.sin(2*np.pi*freq1*t+p)\n",
    "y2 = A*np.sin(2*np.pi*freq2*t+p)\n",
    "\n",
    "# Stevilo vzorcev za izris\n",
    "samp = 25\n",
    "\n",
    "# Izris\n",
    "plt.plot(t[0:samp], y1[0:samp])\n",
    "plt.title(f'Vzor: {Fs} Hz, Frek: {freq1} Hz, Ampl: {A}, Faza: {p} rad')\n",
    "plt.xlabel('Čas [s]')\n",
    "plt.ylabel('Amplituda')\n",
    "plt.grid(True)\n",
    "plt.show()\n",
    "\n",
    "plt.plot(t[0:samp], y2[0:samp])\n",
    "plt.title(f'Vzor: {Fs} Hz, Frek: {freq2} Hz, Ampl: {A}, Faza: {p} rad')\n",
    "plt.xlabel('Čas [s]')\n",
    "plt.ylabel('Amplituda')\n",
    "plt.grid(True)\n",
    "plt.show()\n",
    "\n",
    "plt.plot(t[0:samp], y1[0:samp])\n",
    "plt.plot(t[0:samp], y2[0:samp])\n",
    "plt.title(f'Vzor: {Fs} Hz, Frek: {freq1} in {freq2} Hz, Ampl: {A}, Faza: {p} rad')\n",
    "plt.xlabel('Čas (s)')\n",
    "plt.ylabel('Amplituda')\n",
    "plt.grid(True)\n",
    "plt.show()\n",
    "\n",
    "plt.specgram(y1, Fs=Fs)\n",
    "plt.title(f'Vzor: {Fs} Hz, Frek: {freq1} Hz, Ampl: {A}, Faza: {p} rad')\n",
    "plt.ylabel('Frekvenca [Hz]')\n",
    "plt.xlabel('Čas [s]')\n",
    "plt.ylim([0, 150])\n",
    "plt.show()\n",
    "\n",
    "plt.specgram(y2, Fs=Fs)\n",
    "plt.title(f'Vzor: {Fs} Hz, Frek: {freq2} Hz, Ampl: {A}, Faza: {p} rad')\n",
    "plt.ylabel('Frekvenca [Hz]')\n",
    "plt.xlabel('Čas [s]')\n",
    "plt.ylim([0, 150])\n",
    "plt.show()"
   ]
  },
  {
   "cell_type": "markdown",
   "metadata": {},
   "source": [
    "#### Primer 5"
   ]
  },
  {
   "cell_type": "code",
   "execution_count": null,
   "metadata": {},
   "outputs": [],
   "source": [
    "# Peti primer preprostih 2 sinusoid s frekvencama 15 in 30Hz  \n",
    "# Opazujte kaj se dogaja s signalom, ki je vsota dveh sinusoid in poskusite še dodati tretjo.\n",
    "# Kako lahko iz vsote sinusoid razberete frekvenco/e signalov?\n",
    "Fs = 1000                       # vzorčevalna frekvenca [Hz] - število \"točk\" na sekundo\n",
    "T = 1.0                         # dolžina vzorcev - signala [s]\n",
    "t = np.arange(0, T, (1.0 / Fs)) # točke vzorčenja - časovni vektor\n",
    "freq1 = 15                      # frekvenca 1 [Hz]\n",
    "freq2 = 30                      # frekvenca 2 [Hz]\n",
    "A = 1.0                         # amplituda\n",
    "p = 0.0                         # faza [rad]\n",
    "\n",
    "# Ustvarimo sinusuide\n",
    "y1 = A*np.sin(2*np.pi*freq1*t+p)\n",
    "y2 = A*np.sin(2*np.pi*freq2*t+p)\n",
    "\n",
    "# Izris\n",
    "plt.subplot(3, 1, 1)\n",
    "plt.plot(t, y1)\n",
    "plt.title(f'Vzor: {Fs} Hz, Frek: {freq1} Hz, Ampl: {A}, Faza: {p} rad')\n",
    "plt.xlabel('Čas [s]')\n",
    "plt.ylabel('Amplituda')\n",
    "plt.grid(True)\n",
    "\n",
    "plt.subplot(3, 1, 2)\n",
    "plt.plot(t, y2)\n",
    "plt.title(f'Vzor: {Fs} Hz, Frek: {freq2} Hz, Ampl: {A}, Faza: {p} rad')\n",
    "plt.xlabel('Čas [s]')\n",
    "plt.ylabel('Amplituda')\n",
    "plt.grid(True)\n",
    "\n",
    "plt.subplot(3, 1, 3)\n",
    "plt.plot(t, y1 + y2)\n",
    "plt.title(f'Vzor: {Fs} Hz, Frek: {freq1} in {freq2} Hz, Ampl: {A}, Faza: {p} rad')\n",
    "plt.xlabel('Čas [s]')\n",
    "plt.ylabel('Amplituda')\n",
    "plt.grid(True)\n",
    "\n",
    "plt.subplots_adjust(hspace=1.1)\n",
    "plt.show()"
   ]
  },
  {
   "cell_type": "markdown",
   "metadata": {},
   "source": [
    "#### Primer 6"
   ]
  },
  {
   "cell_type": "code",
   "execution_count": null,
   "metadata": {},
   "outputs": [],
   "source": [
    "# Skušajmo sinusoide predvajati\n",
    "Fs = 2000                       # vzorčevalna frekvenca [Hz] - število \"točk\" na sekundo\n",
    "T = 3.0                         # dolžina vzorcev - signala [s]\n",
    "t = np.arange(0, T, (1.0 / Fs)) # točke vzorčenja - časovni vektor\n",
    "A = 1.0                         # amplituda\n",
    "p = 0.0                         # faza [rad]\n",
    "\n",
    "freq1 = 440.0000;               # frekvenca 1 [Hz] - A4      \n",
    "freq2 = 523.2511;               # frekvenca 2 [Hz] - C3    \n",
    "freq3 = 261.6256;               # frekvenca 3 [Hz] - C4   \n",
    "freq4 = 880.0000;               # frekvenca 4 [Hz] - A5\n",
    "\n",
    "# Ustvarimo sinusuide\n",
    "y1 = A*np.sin(2*np.pi*freq1*t+p)\n",
    "y2 = A*np.sin(2*np.pi*freq2*t+p)\n",
    "y3 = A*np.sin(2*np.pi*freq3*t+p)\n",
    "y4 = A*np.sin(2*np.pi*freq4*t+p)\n",
    "\n",
    "ys = (y1 + y2 + y3 + y4) / 4\n",
    "\n",
    "# Stevilo vzorcev za izris\n",
    "samp = 100\n",
    "\n",
    "# Izris\n",
    "plt.subplot(5, 1, 1)\n",
    "plt.plot(t[0:samp], y1[0:samp])\n",
    "plt.title(f'Vzor: {Fs} Hz, Frek: {freq1} Hz, Ampl: {A}, Faza: {p} rad')\n",
    "plt.xlabel('Čas [s]')\n",
    "plt.ylabel('Amplituda')\n",
    "plt.grid(True)\n",
    "\n",
    "plt.subplot(5, 1, 2)\n",
    "plt.plot(t[0:samp], y2[0:samp])\n",
    "plt.title(f'Vzor: {Fs} Hz, Frek: {freq2} Hz, Ampl: {A}, Faza: {p} rad')\n",
    "plt.xlabel('Čas [s]')\n",
    "plt.ylabel('Amplituda')\n",
    "plt.grid(True)\n",
    "\n",
    "plt.subplot(5, 1, 3)\n",
    "plt.plot(t[0:samp], y3[0:samp])\n",
    "plt.title(f'Vzor: {Fs} Hz, Frek: {freq3} Hz, Ampl: {A}, Faza: {p} rad')\n",
    "plt.xlabel('Čas [s]')\n",
    "plt.ylabel('Amplituda')\n",
    "plt.grid(True)\n",
    "\n",
    "plt.subplot(5, 1, 4)\n",
    "plt.plot(t[0:samp], y4[0:samp])\n",
    "plt.title(f'Vzor: {Fs} Hz, Frek: {freq4} Hz, Ampl: {A}, Faza: {p} rad')\n",
    "plt.xlabel('Čas [s]')\n",
    "plt.ylabel('Amplituda')\n",
    "plt.grid(True)\n",
    "\n",
    "plt.subplot(5, 1, 5)\n",
    "plt.plot(t[0:samp], ys[0:samp])\n",
    "plt.title(f'Vzor: {Fs} Hz, Frek: VSE Hz, Ampl: {A}, Faza: {p} rad')\n",
    "plt.xlabel('Čas [s]')\n",
    "plt.ylabel('Amplituda')\n",
    "plt.grid(True)\n",
    "\n",
    "plt.subplots_adjust(hspace=4)\n",
    "plt.show()"
   ]
  },
  {
   "cell_type": "code",
   "execution_count": null,
   "metadata": {},
   "outputs": [],
   "source": [
    "# Predvajajmo posamično frekvenco\n",
    "sd.play(y1, Fs)\n",
    "sd.wait()\n",
    "\n",
    "sd.play(y2, Fs)\n",
    "sd.wait()\n",
    "\n",
    "sd.play(y3, Fs)\n",
    "sd.wait()\n",
    "\n",
    "sd.play(y4, Fs)\n",
    "sd.wait()"
   ]
  },
  {
   "cell_type": "code",
   "execution_count": null,
   "metadata": {},
   "outputs": [],
   "source": [
    "# Predvajamo superpozicijo signalov z vsemi frekvencami\n",
    "sd.play(ys, Fs)\n",
    "sd.wait()"
   ]
  },
  {
   "cell_type": "markdown",
   "metadata": {},
   "source": [
    "#### Primer 7"
   ]
  },
  {
   "cell_type": "code",
   "execution_count": null,
   "metadata": {},
   "outputs": [],
   "source": [
    "# Kaj so harmoniki in kako jih vidimo?\n",
    "Fs = 8000                       # vzorčevalna frekvenca [Hz] - število \"točk\" na sekundo\n",
    "T = 3.0                         # dolžina vzorcev - signala [s]\n",
    "t = np.arange(0, T, (1.0 / Fs)) # točke vzorčenja - časovni vektor\n",
    "A1 = 1.0                        # amplituda 1\n",
    "A2 = 0.7                        # amplituda 2\n",
    "A3 = 0.5                        # amplituda 3\n",
    "p = 0.0                         # faza [rad]\n",
    "\n",
    "freq1 = 440.0000;               # frekvenca 1 [Hz]      \n",
    "freq2 = 880.0000;               # frekvenca 2 [Hz]    \n",
    "freq3 = 1320.0000;              # frekvenca 3 [Hz]   \n",
    "\n",
    "# Ustvarimo sinusuide\n",
    "y12 = A1*np.sin(2*np.pi*t*freq1+p) + A2*np.sin(2*np.pi*t*freq2+p)\n",
    "y123 = y12 + A3*np.sin(2*np.pi*t*freq3+p)\n",
    "\n",
    "# Stevilo vzorcev za izris\n",
    "samp = 100\n",
    "\n",
    "# Izris\n",
    "plt.subplot(2, 1, 1)\n",
    "plt.plot(t[0:samp], y12[0:samp])\n",
    "plt.title(f'Vzor: {Fs} Hz, Frek: {freq1} in {freq2} Hz, Ampl: {A1} in {A2}, Faza: {p} rad')\n",
    "plt.xlabel('Čas [s]')\n",
    "plt.ylabel('Amplituda')\n",
    "plt.grid(True)\n",
    "\n",
    "plt.subplot(2, 1, 2)\n",
    "plt.plot(t[0:samp], y123[0:samp])\n",
    "plt.title(f'Vzor: {Fs} Hz, Frek: {freq1}, {freq2} in {freq3} Hz, Ampl: {A1}, {A2} in {A3}, Faza: {p} rad')\n",
    "plt.xlabel('Čas [s]')\n",
    "plt.ylabel('Amplituda')\n",
    "plt.grid(True)\n",
    "\n",
    "plt.subplots_adjust(hspace=0.5)\n",
    "plt.show()"
   ]
  },
  {
   "cell_type": "markdown",
   "metadata": {},
   "source": [
    "#### Primer 8"
   ]
  },
  {
   "cell_type": "code",
   "execution_count": null,
   "metadata": {},
   "outputs": [],
   "source": [
    "# Dodamo več harmonikov zaporedno\n",
    "Fs = 16000                      # vzorčevalna frekvenca [Hz] - število \"točk\" na sekundo\n",
    "T = 1.0                         # dolžina vzorcev - signala [s]\n",
    "t = np.arange(0, T, (1.0 / Fs)) # točke vzorčenja - časovni vektor\n",
    "freq = 440                      # frekvenca 1 [Hz]\n",
    "A = 100.0                       # amplituda\n",
    "p = 0.0                         # faza [rad]\n",
    "\n",
    "# Ustvarimo sinusuido\n",
    "y = A*np.sin(2*np.pi*t*freq)\n",
    "\n",
    "# Stevilo vzorcev za izris\n",
    "samp = 200\n",
    "\n",
    "# Predvajanje\n",
    "sd.play(y, Fs)\n",
    "sd.wait()\n",
    "\n",
    "i = 1\n",
    "plt.subplot(7, 1, 1)\n",
    "for f in range(freq*2, freq*8, freq):\n",
    "    y = (y + A*np.sin(2*np.pi*t*f))/2\n",
    "    A = A/2\n",
    "\n",
    "    plt.subplot(7, 1, i)\n",
    "    plt.plot(t[0:samp], y[0:samp])\n",
    "    \n",
    "    # Predvajamo superpozicijo\n",
    "    sd.play(y, Fs)\n",
    "    sd.wait()\n",
    "\n",
    "    i += 1\n",
    "\n",
    "# Izris\n",
    "plt.show()"
   ]
  },
  {
   "cell_type": "markdown",
   "metadata": {},
   "source": [
    "#### Primer 8"
   ]
  },
  {
   "cell_type": "code",
   "execution_count": null,
   "metadata": {},
   "outputs": [],
   "source": [
    "# \"Onesnažimo\" signal\n",
    "Fs = 1000                       # vzorčevalna frekvenca [Hz] - število \"točk\" na sekundo\n",
    "T = 1.0                         # dolžina vzorcev - signala [s]\n",
    "t = np.arange(0, T, (1.0 / Fs)) # točke vzorčenja - časovni vektor\n",
    "freq = 5                        # frekvenca [Hz]\n",
    "A = 1.0                         # amplituda\n",
    "p = 0.0                         # faza [rad]\n",
    "SNRdb = 10                      # razmerje signal-šum [dB]\n",
    "\n",
    "# Izvorni signal\n",
    "yo = A*np.sin(2*np.pi*freq*t+p)\n",
    "\n",
    "# Energija in SNR\n",
    "en_yo = np.mean(yo**2)\n",
    "SNR = 10**(SNRdb/10)\n",
    "\n",
    "# Šum\n",
    "n = np.sqrt(en_yo/SNR)*np.random.randn(np.size(yo))\n",
    "\n",
    "# \"Onesnažimo\" signal s šumom\n",
    "yn = yo + n\n",
    "\n",
    "# Preverimo razmerje SNR\n",
    "en_yn = np.mean(n**2)\n",
    "SNRval = 10 * np.log10(en_yo / en_yn) # [dB]\n",
    "\n",
    "# Vrednosti SNR morata biti skoraj enaki\n",
    "print(f\"SNR: {SNR}\")\n",
    "print(f\"SNR: {SNRval}\")\n",
    "\n",
    "# Izris\n",
    "plt.plot(t, yn)\n",
    "plt.plot(t, yo)\n",
    "plt.title(f'Vzor: {Fs} Hz, Frek: {freq} Hz, Ampl: {A}, Faza: {p} rad')\n",
    "plt.xlabel('Čas [s]')\n",
    "plt.ylabel('Amplituda')\n",
    "plt.grid(True)\n",
    "plt.show()\n",
    "\n",
    "# Kaj se zgodi, ko gre vrednost SNR v minus?"
   ]
  },
  {
   "cell_type": "markdown",
   "metadata": {},
   "source": [
    "#### Primer 9"
   ]
  },
  {
   "cell_type": "code",
   "metadata": {
    "ExecuteTime": {
     "end_time": "2025-03-09T16:20:05.626555Z",
     "start_time": "2025-03-09T16:20:00.881798Z"
    }
   },
   "source": [
    "# Zajem zvoka iz mikrofona\n",
    "Fs = 44100                         # vzorčevalna frekvenca [Hz] - število \"točk\" na sekundo\n",
    "T = 2.0                            # dolžina snemanja signala [s]\n",
    "ADbits = 'int16';                  # resolucija [bit]\n",
    "chans = 1                          # število kanalov - 1 - mono; 2 - stereo\n",
    "\n",
    "# Zajem zvoka\n",
    "print(\"Snemanje...\")\n",
    "y = sd.rec(int(Fs * T), samplerate=Fs, channels=chans, dtype=ADbits)\n",
    "sd.wait()\n",
    "print(\"Končano\")\n",
    "\n",
    "# Kaj predstavlja ADbits? Od kod Fs 44100 Hz?\n",
    "\n",
    "# Predvajamo zvok\n",
    "print(\"Predvajanje...\")\n",
    "sd.play(y, Fs)\n",
    "sd.wait()\n",
    "print(\"Končano\")\n",
    "\n",
    "# Narišemo posnetek (samo prvi kanal)\n",
    "plt.plot(np.arange(y.shape[0]) / Fs, y)\n",
    "plt.title(\"Zvočni posnetek\")\n",
    "plt.xlabel(\"Čas [s]\")\n",
    "plt.ylabel(\"Amplituda\")\n",
    "plt.grid(True)\n",
    "plt.show()"
   ],
   "outputs": [
    {
     "name": "stdout",
     "output_type": "stream",
     "text": [
      "Snemanje...\n",
      "Končano\n",
      "Predvajanje...\n",
      "Končano\n"
     ]
    },
    {
     "data": {
      "text/plain": [
       "<Figure size 640x480 with 1 Axes>"
      ],
      "image/png": "[encoded data removed]"
     },
     "metadata": {},
     "output_type": "display_data"
    }
   ],
   "execution_count": 4
  }
 ],
 "metadata": {
  "kernelspec": {
   "display_name": "Python 3",
   "language": "python",
   "name": "python3"
  },
  "language_info": {
   "codemirror_mode": {
    "name": "ipython",
    "version": 3
   },
   "file_extension": ".py",
   "mimetype": "text/x-python",
   "name": "python",
   "nbconvert_exporter": "python",
   "pygments_lexer": "ipython3",
   "version": "3.11.6"
  }
 },
 "nbformat": 4,
 "nbformat_minor": 2
}
