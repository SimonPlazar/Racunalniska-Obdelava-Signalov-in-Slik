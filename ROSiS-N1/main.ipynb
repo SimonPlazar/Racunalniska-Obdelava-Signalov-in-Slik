{
 "cells": [
  {
   "cell_type": "code",
   "outputs": [],
   "source": [
    "import sounddevice as sd\n",
    "import numpy as np\n",
    "\n",
    "duration = 5  # s\n",
    "sample_rate = 44100  # 44.1 kHz"
   ],
   "metadata": {
    "collapsed": false,
    "ExecuteTime": {
     "end_time": "2025-03-03T12:43:44.535744Z",
     "start_time": "2025-03-03T12:43:44.529558Z"
    }
   },
   "id": "6182f6db8941b116",
   "execution_count": 6
  },
  {
   "cell_type": "code",
   "outputs": [],
   "source": [
    "# Record audio\n",
    "audio_data = sd.rec(int(duration * sample_rate), samplerate=sample_rate, channels=1, dtype='float32')\n",
    "sd.wait()"
   ],
   "metadata": {
    "collapsed": false,
    "ExecuteTime": {
     "end_time": "2025-03-03T12:43:44.547653Z",
     "start_time": "2025-03-03T12:43:44.540766Z"
    }
   },
   "id": "76c4eca1dab5dfff",
   "execution_count": 6
  },
  {
   "cell_type": "code",
   "outputs": [],
   "source": [
    "# Playback audio\n",
    "sd.play(audio_data, samplerate=sample_rate)\n",
    "sd.wait()"
   ],
   "metadata": {
    "collapsed": false
   },
   "id": "72b4071cf3f1120e"
  },
  {
   "cell_type": "code",
   "outputs": [],
   "source": [
    "# Graph audio data\n",
    "import matplotlib.pyplot as plt\n",
    "\n",
    "# Convert to 1D array\n",
    "audio_data = audio_data.flatten() # (sample_rate, 1) -> (sample_rate,)\n",
    "\n",
    "# Create time axis\n",
    "time_axis = np.linspace(0, duration, len(audio_data))\n",
    "\n",
    "# Plot waveform\n",
    "plt.figure(figsize=(12, 4))\n",
    "plt.plot(time_axis, audio_data, color='blue', alpha=0.7, linewidth=0.8)\n",
    "plt.xlabel(\"Time (seconds)\")\n",
    "plt.ylabel(\"Amplitude\")\n",
    "plt.title(\"Audio Waveform\")\n",
    "plt.grid()\n",
    "plt.show()"
   ],
   "metadata": {
    "collapsed": false,
    "ExecuteTime": {
     "end_time": "2025-03-03T12:43:44.558603Z",
     "start_time": "2025-03-03T12:43:44.552712Z"
    }
   },
   "id": "395aac462d0acba3",
   "execution_count": 6
  }
 ],
 "metadata": {
  "kernelspec": {
   "display_name": "Python 3",
   "language": "python",
   "name": "python3"
  },
  "language_info": {
   "codemirror_mode": {
    "name": "ipython",
    "version": 2
   },
   "file_extension": ".py",
   "mimetype": "text/x-python",
   "name": "python",
   "nbconvert_exporter": "python",
   "pygments_lexer": "ipython2",
   "version": "2.7.6"
  }
 },
 "nbformat": 4,
 "nbformat_minor": 5
}
